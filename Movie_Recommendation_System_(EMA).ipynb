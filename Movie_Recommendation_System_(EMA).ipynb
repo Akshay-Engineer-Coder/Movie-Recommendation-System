{
  "nbformat": 4,
  "nbformat_minor": 0,
  "metadata": {
    "colab": {
      "provenance": []
    },
    "kernelspec": {
      "name": "python3",
      "display_name": "Python 3"
    },
    "language_info": {
      "name": "python"
    }
  },
  "cells": [
    {
      "cell_type": "code",
      "execution_count": 1,
      "metadata": {
        "colab": {
          "base_uri": "https://localhost:8080/"
        },
        "id": "1q-VCnOmV_Ia",
        "outputId": "ae41c86f-acc2-4a22-eeb6-8d2e03218250"
      },
      "outputs": [
        {
          "output_type": "stream",
          "name": "stdout",
          "text": [
            "                                           title                      genre  \\\n",
            "0                       The Shawshank Redemption                      Drama   \n",
            "1                                  The Godfather               Crime, Drama   \n",
            "2                                The Dark Knight       Action, Crime, Drama   \n",
            "3                                   Pulp Fiction               Crime, Drama   \n",
            "4  The Lord of the Rings: The Return of the King  Adventure, Drama, Fantasy   \n",
            "\n",
            "               director                        actors  ratings  \n",
            "0        Frank Darabont   Tim Robbins, Morgan Freeman      9.3  \n",
            "1  Francis Ford Coppola      Marlon Brando, Al Pacino      9.2  \n",
            "2     Christopher Nolan  Christian Bale, Heath Ledger      9.0  \n",
            "3     Quentin Tarantino    John Travolta, Uma Thurman      8.9  \n",
            "4         Peter Jackson  Elijah Wood, Viggo Mortensen      8.9  \n"
          ]
        }
      ],
      "source": [
        "import pandas as pd\n",
        "\n",
        "# Sample movie dataset\n",
        "data = {\n",
        "    'title': ['The Shawshank Redemption', 'The Godfather', 'The Dark Knight', 'Pulp Fiction', 'The Lord of the Rings: The Return of the King'],\n",
        "    'genre': ['Drama', 'Crime, Drama', 'Action, Crime, Drama', 'Crime, Drama', 'Adventure, Drama, Fantasy'],\n",
        "    'director': ['Frank Darabont', 'Francis Ford Coppola', 'Christopher Nolan', 'Quentin Tarantino', 'Peter Jackson'],\n",
        "    'actors': ['Tim Robbins, Morgan Freeman', 'Marlon Brando, Al Pacino', 'Christian Bale, Heath Ledger', 'John Travolta, Uma Thurman', 'Elijah Wood, Viggo Mortensen'],\n",
        "    'ratings': [9.3, 9.2, 9.0, 8.9, 8.9]\n",
        "}\n",
        "\n",
        "df = pd.DataFrame(data)\n",
        "print(df)\n"
      ]
    },
    {
      "cell_type": "code",
      "source": [
        "# Create a soup of features\n",
        "def create_soup(x):\n",
        "    return x['genre'] + ' ' + x['director'] + ' ' + x['actors']\n",
        "\n",
        "df['soup'] = df.apply(create_soup, axis=1)\n",
        "print(df[['title', 'soup']])\n"
      ],
      "metadata": {
        "colab": {
          "base_uri": "https://localhost:8080/"
        },
        "id": "WcausxpzXXZQ",
        "outputId": "3a668ff0-38d2-4572-bcdb-673d6540d1ae"
      },
      "execution_count": 2,
      "outputs": [
        {
          "output_type": "stream",
          "name": "stdout",
          "text": [
            "                                           title  \\\n",
            "0                       The Shawshank Redemption   \n",
            "1                                  The Godfather   \n",
            "2                                The Dark Knight   \n",
            "3                                   Pulp Fiction   \n",
            "4  The Lord of the Rings: The Return of the King   \n",
            "\n",
            "                                                soup  \n",
            "0   Drama Frank Darabont Tim Robbins, Morgan Freeman  \n",
            "1  Crime, Drama Francis Ford Coppola Marlon Brand...  \n",
            "2  Action, Crime, Drama Christopher Nolan Christi...  \n",
            "3  Crime, Drama Quentin Tarantino John Travolta, ...  \n",
            "4  Adventure, Drama, Fantasy Peter Jackson Elijah...  \n"
          ]
        }
      ]
    },
    {
      "cell_type": "code",
      "source": [
        "from sklearn.feature_extraction.text import TfidfVectorizer\n",
        "\n",
        "# Define a TF-IDF Vectorizer\n",
        "tfidf = TfidfVectorizer(stop_words='english')\n",
        "\n",
        "# Replace NaN with an empty string\n",
        "df['soup'] = df['soup'].fillna('')\n",
        "\n",
        "# Construct the TF-IDF matrix\n",
        "tfidf_matrix = tfidf.fit_transform(df['soup'])\n",
        "print(tfidf_matrix.shape)\n"
      ],
      "metadata": {
        "colab": {
          "base_uri": "https://localhost:8080/"
        },
        "id": "zWseIXulXqPR",
        "outputId": "89072935-3fa9-4edc-bd28-00a432ebee72"
      },
      "execution_count": 3,
      "outputs": [
        {
          "output_type": "stream",
          "name": "stdout",
          "text": [
            "(5, 36)\n"
          ]
        }
      ]
    },
    {
      "cell_type": "code",
      "source": [
        "from sklearn.metrics.pairwise import cosine_similarity\n",
        "\n",
        "# Compute the cosine similarity matrix\n",
        "cosine_sim = cosine_similarity(tfidf_matrix, tfidf_matrix)\n",
        "print(cosine_sim)\n"
      ],
      "metadata": {
        "colab": {
          "base_uri": "https://localhost:8080/"
        },
        "id": "224lBxi5Xufj",
        "outputId": "a2a67017-18ff-421c-8847-3e4a2e41d02d"
      },
      "execution_count": 4,
      "outputs": [
        {
          "output_type": "stream",
          "name": "stdout",
          "text": [
            "[[1.         0.0328427  0.0328427  0.0352168  0.03172283]\n",
            " [0.0328427  1.         0.08801574 0.09437815 0.02857314]\n",
            " [0.0328427  0.08801574 1.         0.09437815 0.02857314]\n",
            " [0.0352168  0.09437815 0.09437815 1.         0.03063861]\n",
            " [0.03172283 0.02857314 0.02857314 0.03063861 1.        ]]\n"
          ]
        }
      ]
    },
    {
      "cell_type": "code",
      "source": [
        "# Construct a reverse map of indices and movie titles\n",
        "indices = pd.Series(df.index, index=df['title']).drop_duplicates()\n",
        "\n",
        "# Function that takes in a movie title as input and outputs most similar movies\n",
        "def get_recommendations(title, cosine_sim=cosine_sim):\n",
        "    idx = indices[title]\n",
        "\n",
        "    # Get the pairwise similarity scores of all movies with that movie\n",
        "    sim_scores = list(enumerate(cosine_sim[idx]))\n",
        "\n",
        "    # Sort the movies based on the similarity scores\n",
        "    sim_scores = sorted(sim_scores, key=lambda x: x[1], reverse=True)\n",
        "\n",
        "    # Get the scores of the 5 most similar movies\n",
        "    sim_scores = sim_scores[1:6]\n",
        "\n",
        "    # Get the movie indices\n",
        "    movie_indices = [i[0] for i in sim_scores]\n",
        "\n",
        "    # Return the top 5 most similar movies\n",
        "    return df['title'].iloc[movie_indices]\n",
        "\n",
        "# Test the recommendation system\n",
        "print(get_recommendations('The Godfather'))\n"
      ],
      "metadata": {
        "colab": {
          "base_uri": "https://localhost:8080/"
        },
        "id": "EuvkP1AvX0sd",
        "outputId": "5144c8fb-6e85-4cdc-a540-e261308d0e4c"
      },
      "execution_count": 5,
      "outputs": [
        {
          "output_type": "stream",
          "name": "stdout",
          "text": [
            "3                                     Pulp Fiction\n",
            "2                                  The Dark Knight\n",
            "0                         The Shawshank Redemption\n",
            "4    The Lord of the Rings: The Return of the King\n",
            "Name: title, dtype: object\n"
          ]
        }
      ]
    }
  ]
}